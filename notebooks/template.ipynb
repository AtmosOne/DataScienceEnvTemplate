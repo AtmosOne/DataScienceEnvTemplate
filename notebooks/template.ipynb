{
 "cells": [
  {
   "cell_type": "markdown",
   "id": "secondary-engagement",
   "metadata": {},
   "source": [
    "# About\n",
    "* Who is creator of notebook?\n",
    "* When notebook was created?\n",
    "* Why notebook was created?\n",
    "* What it should to produce?"
   ]
  },
  {
   "cell_type": "code",
   "execution_count": 1,
   "id": "material-freedom",
   "metadata": {},
   "outputs": [],
   "source": [
    "import base_imports\n",
    "\n",
    "# Autoreload activation\n",
    "%load_ext autoreload\n",
    "%autoreload 2"
   ]
  },
  {
   "cell_type": "markdown",
   "id": "frozen-deployment",
   "metadata": {},
   "source": [
    "# Data\n",
    "\n",
    "Data naming convention: \\<SOURCE_TYPE\\>_\\<DESCRIPTIVE_NAME\\>\n",
    "\n",
    "SOURCE_TYPE:\n",
    "* S : Data are stored in `/data/sources/`\n",
    "* I : Data are stored in `/data/intermediate/`\n",
    "* O : Data are stored in `/data/outputs/`\n",
    "\n",
    "Example:\n",
    "* `I_DEPARTMENTS_EMPLOYEES_JOIN`\n",
    "* `S_MONTHLY_INCOMES`\n",
    "* `O_KPI_METRICS`"
   ]
  },
  {
   "cell_type": "code",
   "execution_count": 2,
   "id": "tested-filing",
   "metadata": {},
   "outputs": [
    {
     "ename": "NameError",
     "evalue": "name 'pd' is not defined",
     "output_type": "error",
     "traceback": [
      "\u001b[0;31m---------------------------------------------------------------------------\u001b[0m",
      "\u001b[0;31mNameError\u001b[0m                                 Traceback (most recent call last)",
      "\u001b[0;32m<ipython-input-2-35e2fb029e62>\u001b[0m in \u001b[0;36m<module>\u001b[0;34m\u001b[0m\n\u001b[0;32m----> 1\u001b[0;31m \u001b[0mpd\u001b[0m\u001b[0;34m.\u001b[0m\u001b[0mDataFrame\u001b[0m\u001b[0;34m\u001b[0m\u001b[0;34m\u001b[0m\u001b[0m\n\u001b[0m",
      "\u001b[0;31mNameError\u001b[0m: name 'pd' is not defined"
     ]
    }
   ],
   "source": []
  },
  {
   "cell_type": "markdown",
   "id": "simple-struggle",
   "metadata": {},
   "source": [
    "# Summary\n",
    "\n",
    "* What insights are met?\n",
    "* What was good/bad/weird?\n",
    "* Recommendations?\n",
    "* Why particular things did happen?"
   ]
  }
 ],
 "metadata": {
  "kernelspec": {
   "display_name": "Python 3",
   "language": "python",
   "name": "python3"
  },
  "language_info": {
   "codemirror_mode": {
    "name": "ipython",
    "version": 3
   },
   "file_extension": ".py",
   "mimetype": "text/x-python",
   "name": "python",
   "nbconvert_exporter": "python",
   "pygments_lexer": "ipython3",
   "version": "3.8.5"
  },
  "varInspector": {
   "cols": {
    "lenName": 16,
    "lenType": 16,
    "lenVar": 40
   },
   "kernels_config": {
    "python": {
     "delete_cmd_postfix": "",
     "delete_cmd_prefix": "del ",
     "library": "var_list.py",
     "varRefreshCmd": "print(var_dic_list())"
    },
    "r": {
     "delete_cmd_postfix": ") ",
     "delete_cmd_prefix": "rm(",
     "library": "var_list.r",
     "varRefreshCmd": "cat(var_dic_list()) "
    }
   },
   "types_to_exclude": [
    "module",
    "function",
    "builtin_function_or_method",
    "instance",
    "_Feature"
   ],
   "window_display": false
  }
 },
 "nbformat": 4,
 "nbformat_minor": 5
}
